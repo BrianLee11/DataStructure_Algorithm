{
  "nbformat": 4,
  "nbformat_minor": 0,
  "metadata": {
    "colab": {
      "provenance": [],
      "authorship_tag": "ABX9TyNzUO+l+vVqnjQQXEvc9BPG"
    },
    "kernelspec": {
      "name": "python3",
      "display_name": "Python 3"
    },
    "language_info": {
      "name": "python"
    }
  },
  "cells": [
    {
      "cell_type": "markdown",
      "source": [
        "#**Show why str(integer) is $O(1)$ time complexity**\n",
        "- Creation date: Tuesday, July 16, 2024\n",
        "- Topic: str(), modulus\n"
      ],
      "metadata": {
        "id": "FjAaJyidsJHw"
      }
    },
    {
      "cell_type": "code",
      "source": [
        "# Example\n",
        "integer = 438\n",
        "string = str(integer)\n",
        "\n",
        "print(string)"
      ],
      "metadata": {
        "colab": {
          "base_uri": "https://localhost:8080/"
        },
        "id": "yr9wU26TtI_q",
        "outputId": "7a0592fb-1054-4512-eb8b-7693e5677a80"
      },
      "execution_count": 38,
      "outputs": [
        {
          "output_type": "stream",
          "name": "stdout",
          "text": [
            "438\n"
          ]
        }
      ]
    },
    {
      "cell_type": "code",
      "source": [
        "def convertInteger(integer):\n",
        "  array = []\n",
        "  number = integer\n",
        "\n",
        "  while (number != 0):\n",
        "    digit = number % 10 # git the last digit\n",
        "    array.append(str(digit))\n",
        "    number = number // 10\n",
        "\n",
        "  reversedArray = []\n",
        "  for index in range(len(array), 0, -1):\n",
        "    reversedArray.append(array[index -1])\n",
        "\n",
        "  return ''.join(reversedArray)"
      ],
      "metadata": {
        "id": "KZy38jm5yadB"
      },
      "execution_count": 39,
      "outputs": []
    },
    {
      "cell_type": "code",
      "source": [
        "integer = 537\n",
        "\n",
        "result = convertInteger(integer)\n",
        "print(result)\n",
        "print(result[0])\n",
        "print(result[1])\n",
        "print(result[2])\n",
        "print(type(result))"
      ],
      "metadata": {
        "colab": {
          "base_uri": "https://localhost:8080/"
        },
        "id": "Zn2lSPkPucmj",
        "outputId": "75ca8278-9385-49c3-db25-bba97897fab4"
      },
      "execution_count": 41,
      "outputs": [
        {
          "output_type": "stream",
          "name": "stdout",
          "text": [
            "537\n",
            "5\n",
            "3\n",
            "7\n",
            "<class 'str'>\n"
          ]
        }
      ]
    },
    {
      "cell_type": "markdown",
      "source": [
        "To explain why str(integer) has O(1) time complexity using computer science concepts, we need to consider how the conversion is typically implemented internally.\n",
        "\n",
        "##**Understanding the Conversion Process**##\n",
        "\n",
        "**1. Fixed Number of Digits:**\n",
        "\n",
        "- In most modern programming languages, including Python, integers are represented using a fixed amount of space, depending on whether they're 32-bit or 64-bit integers. This means that the number of digits in an integer is limited.\n",
        "\n",
        "- For a 32-bit integer, the maximum value is $2^{31} - 1 = 2,147,483,647$, which has 10 digits.\n",
        "\n",
        "- For a 64-bit integer, the maximum value is $2^{63} - 1= 9,223,372,036,854,775,807$, which has 19 digits.\n",
        "\n",
        "\n",
        "**2.Constant time conversion:**\n",
        "- Converting an integer to a string involves processing each digit of the integer. However, since the number of digits is fixed and does not grow with the size of the input (the integer), the conversion process is bounded by a constant number of steps.\n",
        "\n",
        "- The conversion algorithm typically involves dividing the integer by 10 repeatedly to extract each digit and then mapping these digits to their corresponding character representations. Since the number of divisions and mappings is constant and limited by the number of bits in the integer, the time complexity remains O(1).\n",
        "\n",
        "\n",
        "##**Detailed Steps of the Conversion Process**##\n",
        "\n",
        "**1.Division and Modulus:**\n",
        "\n",
        "- The integer is repeatedly divided by 10, and the remainder (modulus operation) gives the last digit of the integer. This process extracts all the digits of the integer.\n",
        "\n",
        "- For a 32-bit integer, this will happen at most 10 times. For a 64-bit integer, this will happen at most 19 times.\n",
        "\n",
        "\n",
        "**2.Digit Mapping:**\n",
        "- Each digit (0-9) is mapped to its corresponding character ('0'-'9'). This mapping is a constant-time operation.\n",
        "\n",
        "\n",
        "**3.String Construction:**\n",
        "- The characters are then concatenated to form the final string representation of the integer. The number of concatenations is also constant.\n",
        "\n",
        "\n",
        "##**Conclusion**##\n",
        "Because the number of steps required to convert an integer to a string is fixed and does not depend on the actual value of the integer (only on its representation size, which is fixed), the time complexity of the str(integer) operation is O(1). This is a result of the bounded number of digit extraction and character mapping operations, all of which are performed in constant time."
      ],
      "metadata": {
        "id": "pqAjpnqsqu_K"
      }
    }
  ]
}